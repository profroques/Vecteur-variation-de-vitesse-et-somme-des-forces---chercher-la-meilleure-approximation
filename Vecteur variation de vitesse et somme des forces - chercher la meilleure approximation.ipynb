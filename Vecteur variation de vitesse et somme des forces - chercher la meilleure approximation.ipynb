{
 "cells": [
  {
   "cell_type": "markdown",
   "metadata": {},
   "source": [
    "<div class=\"panel panel-primary\">\n",
    "    <div class=\"panel-heading\"><h2>Préambule :</h2></div>\n",
    "      <div class=\"panel-body\">\n",
    "Dans cette interface, vous allez découvrir des blocs de code qui composent un programme informatique complet.\n",
    "\n",
    "Afin de vous permettre de vous initier au codage et de vous faire participer à compléter ce programme informatique, le programme sera fragmenté par blocs. \n",
    "\n",
    "Ainsi, vous serez sollicité.e.s pour deux types d'action. <br>\n",
    "- un travail pour <i>exécuter</i> un bloc de programme informatique ;<br>\n",
    "- un travail pour <i>compléter</i> un bloc de programme informatique.<br>\n",
    "<br>\n",
    "Avant de commencer à découvrir le contenu du programme informatique proposé, je vous invite à prendre connaissance des différents types de consignes et des codes couleurs associés que vous allez rencontrer.\n",
    "<br><br> Pour remettre \"à zéro\" toutes les exécutions de bloc aller dans : Kernel>Restart & Clear Output : Relancer et effacer toutes les sorties.\n",
    "      </div>\n",
    "</div>"
   ]
  },
  {
   "cell_type": "markdown",
   "metadata": {},
   "source": [
    "<div class=\"alert alert-info\" role=\"alert\">\n",
    "<b>Informations pour exécuter un bloc de programme informatique : </b> <br>\n",
    "<br><i>Avant</i> les blocs de programme qu'il faut simplément \"exécuter\", vous trouverez :<br>\n",
    "la consigne de travail sur un fond bleu avec une écriture en bleu foncé comme pour cette consigne.<br>\n",
    "\n",
    "Pour Exécuter le code dans un bloc de programme, il faut le sélectionner en cliquant sur la cellule du bloc, puis cliquer sur le bouton Run (ou Exécuter) <b>en haut de la page</b> ou bien en cliquant sur la flèche à côté de In (ou Entrée) si vous êtes sur tablettes ou smartphones.\n",
    "</div>"
   ]
  },
  {
   "cell_type": "markdown",
   "metadata": {},
   "source": [
    "<div class=\"alert alert-warning\">\n",
    "<b>Informations pour compléter un bloc de programme informatique: </b> <br>\n",
    "Certains blocs de codes doivent être complétés <span style='border:1px outset black'>avant</span> d'être exécutés afin de fonctionner convenablement.<br>\n",
    "<br><i>Avant</i> les blocs de programme qu'il faut \"compléter\", vous trouverez :<br>\n",
    "- la consigne de travail sur un fond jaune avec une écriture en brun - comme pour cette consigne.<br>\n",
    "\n",
    "Dans le bloc de programme à compléter vous remplacerez la mention \"-----A COMPLETER-----\" par le code adapté.<br>\n",
    "Dans certains cas, il est possible d'avoir des aides et/ou la solution.\n",
    "<br><b>ATTENTION : Une fois le programme complété, il faut alors exécuter le bloc de code correspondant.</b>\n",
    "</div>"
   ]
  },
  {
   "cell_type": "markdown",
   "metadata": {},
   "source": [
    "<h1> INTERFACE - Vecteur variation de vitesse et somme des forces - chercher la meilleure approximation - 1ère Spé</h1>"
   ]
  },
  {
   "cell_type": "markdown",
   "metadata": {},
   "source": [
    "<div class=\"panel panel-default\">\n",
    "      <div class=\"panel-heading\"><h2>Vecteur variation de vitesse et somme des forces - chercher la meilleure approximation - 1ère Spé</h2></div>\n",
    "       <div class=\"panel-body\"> On suppose que nous avons réalisé le pointage d'un système soumis à une force d'attraction gravitationnelle par un autre objet. Le mouvement du système est caractérisé par les positins x et y du système. Ce mouvement est considéré comme circulaire uniforme. On note dt l'intervalle de temps entre deux positions successives repérées lors du pointage. </div>\n",
    "<div class=\"panel-body\">           \n",
    "Dans cette interface, vous allez découvrir des blocs de code qui composent un programme informatique complet permet d'exploiter des mesures de pointage. Ce programme a pour but :</div>\n",
    "<div class=\"panel-body\">     \n",
    "1] de demander à l'opératrice ou à l'opérateur de saisir d'exécuter des blocs pour faire des appels de bibliothéques d'exécutation de fonction, la création de liste x et y, etc.\n",
    "    </div>\n",
    "<div class=\"panel-body\">     \n",
    "2] de demander à l'opératrice ou à l'opérateur d'exécuter un bloc de programme pour calculer, pour chaque position, les vitesses du système à chaque position i ainsi que le vecteur variation de vitesse avec l'approximation dite \"centrée\" ou \"symétrique\";\n",
    "    </div>\n",
    "<div class=\"panel-body\"> \n",
    "3] de demander à l'opératrice ou à l'opérateur d'exécuter un bloc de programme permettant de tracer les vecteurs vitesses et variation de vitesse du système à chaque position i\n",
    "    </div>\n",
    " <div class=\"panel-body\"> \n",
    "4] de demander à l'opératrice ou à l'opérateur de modifier le bloc du calcul des vitesses et variation des vitesses, pour chaque position i du système avec l'approximation dite \"du point d'après\" avant d'exécuter de nouveau le bloc du tracé de ces vecteurs.\n",
    "    </div>\n",
    "<div class=\"panel-body\"> \n",
    "L'intégralité du programme (à compléter) est disponible dans l'énoncé de cette activité.          \n",
    "Afin de vous permettre de vous initier au codage et de vous faire participer pour compléter ce programme informatique, le programme sera fragmenté par bloc selon les modalités et consignes d'usages rappelées au début de cette page. </div>"
   ]
  },
  {
   "cell_type": "markdown",
   "metadata": {},
   "source": [
    "<div class=\"alert alert-info\" role=\"alert\">\n",
    "<b>Travail à faire pour exécuter le bloc de programme suivant : </b> <br>\n",
    "    Le bloc suivant permet d'importer la bibliothèque NUMPY (pour gestion tableaux et calculs) sous l'alias \"np\"ainsi que, celle de PYPLOT (du module MATPLOTLIB, pour le tracé de courbes) sous l'alias \"plt\" <br>\n",
    "\n",
    "Exécuter le code suivant.<br>\n",
    "Pour Exécuter le code dans la cellule ci-dessus, le sélectionner-le en cliquant sur la cellule, puis cliquer sur le bouton Run (ou Exécuter) en haut de la page ou bien en cliquant sur la flèche à côté de In (ou Entrée) si vous êtes sur tablettes ou smartphones.\n",
    "<br><b>L'exécution du bloc est réussie si un chiffre apparait entre les [] à droite d'Entrée (le chiffre \"1\" si c'est la première fois qu'un bloc est exécuté).</b>\n",
    "</div>"
   ]
  },
  {
   "cell_type": "code",
   "execution_count": null,
   "metadata": {},
   "outputs": [],
   "source": [
    "import numpy as np\n",
    "import matplotlib.pyplot as plt"
   ]
  },
  {
   "cell_type": "markdown",
   "metadata": {},
   "source": [
    "<div class=\"alert alert-info\" role=\"alert\">\n",
    "<b>Travail à faire pour exécuter le bloc de programme suivant : </b> <br>\n",
    "    Le bloc suivant permet de créer des \"listes\" : on peut les voir comme des tableaux de mesures. Ici, il s'agit de créer une liste des coordonnées des abscisses x du système ainsi que celles de ses ordonnées y. Ces valeurs sont issues d'un pointage sur Latispro d'un système en mouvement ciculaire uniforme autour d'un autre objet qui exerce une force attractive sur le système étudié. <br>\n",
    "    Ce bloc permet aussi de créer la variable dt en lui attribuant la durée (en seconde) entre deux positions succesives du pointage. <br>\n",
    "\n",
    "Exécuter le code suivant.<br>\n",
    "Pour Exécuter le code dans la cellule ci-dessus, le sélectionner-le en cliquant sur la cellule, puis cliquer sur le bouton Run (ou Exécuter) en haut de la page ou bien en cliquant sur la flèche à côté de In (ou Entrée) si vous êtes sur tablettes ou smartphones.\n",
    "<br><b>L'exécution du bloc est réussie si un chiffre apparait entre les [] à droite d'Entrée (le chiffre \"2\" si c'est la deuxième fois qu'un bloc est exécuté).</b>\n",
    "</div>"
   ]
  },
  {
   "cell_type": "code",
   "execution_count": null,
   "metadata": {},
   "outputs": [],
   "source": [
    "x= np.array([2.0,1.8477590650225735,1.4142135623730951,0.7653668647301797,1.2246467991473532e-16,-0.7653668647301795,-1.414213562373095,-1.8477590650225735,-2.0,-1.8477590650225737,-1.4142135623730954,-0.7653668647301807,-3.6739403974420594e-16,0.76536686473018,1.4142135623730947,1.847759065022573,2.0])\n",
    "y= np.array([0.0,0.7653668647301796,1.414213562373095,1.8477590650225735,2.0,1.8477590650225735,1.4142135623730951,0.7653668647301798,2.4492935982947064e-16,-0.7653668647301793,-1.414213562373095,-1.847759065022573,-2.0,-1.8477590650225733,-1.4142135623730954,-0.7653668647301808,-4.898587196589413e-16])\n",
    "dt = 0.004"
   ]
  },
  {
   "cell_type": "markdown",
   "metadata": {},
   "source": [
    "<div class=\"alert alert-info\" role=\"alert\">\n",
    "<b>Travail à faire pour exécuter le bloc de programme suivant : </b> <br>\n",
    "    Le bloc suivant permet de créer des \"listes\" : on peut les voir comme des tableaux de valeurs. Ici, il s'agit de créer une liste du vecteur vitesse selon la direction  Ox (vx), du vecteur vitesse selon la direction  Oy (vy), du vecteur VARIATION de vitesse selon la direction  Ox (dvx), du vecteur VARIATION de vitesse selon la direction  Ox (dvx). Ces vecteurs sont ici définis selon l'apprimation dite \"centrée\".<br>\n",
    "  \n",
    "Exécuter le code suivant.<br>\n",
    "Pour Exécuter le code dans la cellule ci-dessus, le sélectionner-le en cliquant sur la cellule, puis cliquer sur le bouton Run (ou Exécuter) en haut de la page ou bien en cliquant sur la flèche à côté de In (ou Entrée) si vous êtes sur tablettes ou smartphones.\n",
    "<br><b>L'exécution du bloc est réussie si un chiffre apparait entre les [] à droite d'Entrée (le chiffre \"3\" si c'est la troisième fois qu'un bloc est exécuté).</b>\n",
    "</div>"
   ]
  },
  {
   "cell_type": "code",
   "execution_count": null,
   "metadata": {},
   "outputs": [],
   "source": [
    "N = x.size\n",
    "\n",
    "vx = np.zeros(N)\n",
    "vy = np.zeros(N)\n",
    "for i in range(1,N-1):\n",
    "    vx[i] = (x[i+1]-x[i-1])/(2*dt)\n",
    "    vy[i] = (y[i+1]-y[i-1])/(2*dt)\n",
    "dvx = np.zeros(N)\n",
    "dvy = np.zeros(N)\n",
    "for i in range(2,N-2):\n",
    "    dvx[i] = vx[i+1]-vx[i-1]\n",
    "    dvy[i] = vy[i+1]-vy[i-1]"
   ]
  },
  {
   "cell_type": "markdown",
   "metadata": {},
   "source": [
    "<div class=\"alert alert-info\" role=\"alert\">\n",
    "<b>Travail à faire pour exécuter le bloc de programme suivant : </b> <br>\n",
    "    Le bloc suivant permet de tracer le vecteur vitesse et variation de vitesse du système à chaque position i.<br>\n",
    "  \n",
    "Exécuter le code suivant.<br>\n",
    "Pour Exécuter le code dans la cellule ci-dessus, le sélectionner-le en cliquant sur la cellule, puis cliquer sur le bouton Run (ou Exécuter) en haut de la page ou bien en cliquant sur la flèche à côté de In (ou Entrée) si vous êtes sur tablettes ou smartphones.\n",
    "<br><b>L'exécution du bloc est réussie si une représentation vectorielle apparait sur une chronophotographie circulaire uniforme.</b>\n",
    "</div>"
   ]
  },
  {
   "cell_type": "code",
   "execution_count": null,
   "metadata": {
    "scrolled": true
   },
   "outputs": [],
   "source": [
    "plt.plot (x,y,\"rx\")\n",
    "plt.xlabel('x (m)')\n",
    "plt.xlim(0,4)\n",
    "plt.ylabel('y (m)')\n",
    "plt.ylim(0,4)\n",
    "plt.title(\"Trajectoire dans le cas d'un\\nmouvement circulaire uniforme\")\n",
    "plt.plot(x,y,'.')\n",
    "plt.quiver(x,y,vx,vy,angles='xy',scale_units='xy',scale=200,color='red',width=0.005)\n",
    "plt.quiver(x,y,dvx,dvy,angles='xy',scale_units='xy',scale=200,color='blue',width=0.005)\n",
    "plt.axis('equal')\n",
    "plt.show()"
   ]
  },
  {
   "cell_type": "markdown",
   "metadata": {},
   "source": [
    "<div class=\"alert alert-warning\">\n",
    "<b>TRAVAIL À FAIRE POUR COMPLÉTER LE BLOC SUIVANT </b> <br>\n",
    "<br>\n",
    "On souhaite tracer les vecteurs vitesses et variation de vitesse du système à chaque position i mais à partir d'une approximation dite \"du point d'après\".\n",
    "    \n",
    "<br>\n",
    "<br>\n",
    "Il est demander de :\n",
    "<br>\n",
    "<div class=\"panel-body\">     \n",
    "1] de modifier (dans le bloc des calculs des vitesses et variation de vitesse) l'expression de vx, vy, dvx et dvy pour calculer ces grandeurs avec l'approximation dite \"du point d'après\" PUIS d'excuter le bloc ainsi modifié ;</div>\n",
    "<div class=\"panel-body\">     \n",
    "2] d'exécuter ensuite de nouveu le bloc du tracé des vecteurs vitesses et variations de vitesse pour voir l'influence des tracés et conclure sur l'approximation à choisir.</div>\n",
    "<b>ATTENTION : Une fois un bloc de programme modifié, il faut alors exécuter le bloc de code correspondant.</b>\n",
    "</div>"
   ]
  },
  {
   "cell_type": "markdown",
   "metadata": {},
   "source": [
    "<details>\n",
    "<summary>Solution</summary>\n",
    "<p>Modifier la ligne n°6 comme suit : vx[i] = (x[i+1]-x[i])/(dt)<br></p>\n",
    "<p>Modifier la ligne n°7 comme suit : vy[i] = (y[i+1]-y[i])/(dt) <br></p>\n",
    "<p>Modifier la ligne n°8 comme suit : dvx[i] = vx[i+1]-vx[i] <br></p>\n",
    "<p>Modifier la ligne n°9 comme suit : dvy[i] = vy[i+1]-vy[i] <br></p>\n",
    "\n",
    "<p>\n",
    "</details>"
   ]
  },
  {
   "cell_type": "code",
   "execution_count": null,
   "metadata": {},
   "outputs": [],
   "source": []
  }
 ],
 "metadata": {
  "kernelspec": {
   "display_name": "Python 3",
   "language": "python",
   "name": "python3"
  },
  "language_info": {
   "codemirror_mode": {
    "name": "ipython",
    "version": 3
   },
   "file_extension": ".py",
   "mimetype": "text/x-python",
   "name": "python",
   "nbconvert_exporter": "python",
   "pygments_lexer": "ipython3",
   "version": "3.7.4"
  }
 },
 "nbformat": 4,
 "nbformat_minor": 2
}
